{
  "nbformat": 4,
  "nbformat_minor": 0,
  "metadata": {
    "colab": {
      "name": "EjerciciosPrácticos.ipynb",
      "provenance": [],
      "authorship_tag": "ABX9TyNC2BuLM63qGZgEC8tsejsZ",
      "include_colab_link": true
    },
    "kernelspec": {
      "name": "python3",
      "display_name": "Python 3"
    },
    "language_info": {
      "name": "python"
    }
  },
  "cells": [
    {
      "cell_type": "markdown",
      "metadata": {
        "id": "view-in-github",
        "colab_type": "text"
      },
      "source": [
        "<a href=\"https://colab.research.google.com/github/DarvinB/python/blob/main/EjerciciosPr%C3%A1cticos.ipynb\" target=\"_parent\"><img src=\"https://colab.research.google.com/assets/colab-badge.svg\" alt=\"Open In Colab\"/></a>"
      ]
    },
    {
      "cell_type": "markdown",
      "source": [
        "EERCICIO 1\n",
        "Realizar la carga del lado de un cuadrado, mostrar por pantalla el perímetro del mismo (El perímetro de un cuadrado se calcula multiplicando el valor del lado por cuatro)."
      ],
      "metadata": {
        "id": "0t66bU7WrdJp"
      }
    },
    {
      "cell_type": "code",
      "execution_count": null,
      "metadata": {
        "id": "gXxFSn56aoRA",
        "colab": {
          "base_uri": "https://localhost:8080/"
        },
        "outputId": "c4b85ffe-736f-4312-b416-4e0064ed9124"
      },
      "outputs": [
        {
          "output_type": "stream",
          "name": "stdout",
          "text": [
            "Introduce el valor del lado del cuadrado: 5.3\n",
            "El valor del perímetro del cuadrado es: 21.2\n"
          ]
        }
      ],
      "source": [
        "# Solicitamos el valor de un lado del cuadrado\n",
        "lado_cuadrado = float(input('Introduce el valor del lado del cuadrado: '))\n",
        "\n",
        "# Operación para calcular el perímetro del cuadrado.\n",
        "perimetro = (lado_cuadrado * 4)\n",
        "\n",
        "# Impresión final del programa\n",
        "print(f'El valor del perímetro del cuadrado es: {perimetro}')"
      ]
    },
    {
      "cell_type": "markdown",
      "source": [
        "EJERCICO 2\n",
        "Escribir un programa en el cual se ingresen cuatro números, calcular e informar la suma de los dos primeros y el producto del tercero y el cuarto."
      ],
      "metadata": {
        "id": "p0s7IzTosxcp"
      }
    },
    {
      "cell_type": "code",
      "source": [
        "# Solicitamos la entrada de los 4 números que necesitamos.\n",
        "numero1 = float(input('Introduce el primer número: '))\n",
        "numero2 = float(input('Introduce el segundo número: '))\n",
        "numero3 = float(input('Introduce el tercer número: '))\n",
        "numero4 = float(input('Introduce el cuarto número: '))\n",
        "print()\n",
        "\n",
        "# Operaciones necesarias para calcular el resultado de ambas operaciones.\n",
        "suma = (numero1 + numero2)\n",
        "producto = (numero3 * numero4)\n",
        "\n",
        "# Impresión final del programa, suma y producto.\n",
        "print(f'El resultado de la suma de {numero1} + {numero2} es: {suma}')\n",
        "print()\n",
        "print(f'El resultado de la multiplicación de {numero3} * {numero4} es: {producto}')"
      ],
      "metadata": {
        "colab": {
          "base_uri": "https://localhost:8080/"
        },
        "id": "scYHOfWHs1sH",
        "outputId": "6c5e13cd-9ebf-4cf4-90b0-9450649dcf4b"
      },
      "execution_count": null,
      "outputs": [
        {
          "output_type": "stream",
          "name": "stdout",
          "text": [
            "Introduce el primer número: 20\n",
            "Introduce el segundo número: 60\n",
            "Introduce el tercer número: 4\n",
            "Introduce el cuarto número: 10\n",
            "\n",
            "El resultado de la suma de 20.0 + 60.0 es: 80.0\n",
            "\n",
            "El resultado de la multiplicación de 4.0 * 10.0 es: 40.0\n"
          ]
        }
      ]
    },
    {
      "cell_type": "markdown",
      "source": [
        "EJERCICIO 3\n",
        "Calcular el sueldo mensual de un operario conociendo la cantidad de horas trabajadas y el valor por hora. Variables enteras, flotantes y cadenas de caracteres."
      ],
      "metadata": {
        "id": "XYWblPSgvmQS"
      }
    },
    {
      "cell_type": "code",
      "source": [
        "# Entrada de datos valor de la hora y la cantidad de horas trabajadas\n",
        "valor_hora = float(input(\"Registre el valor de la hora del operario: \"))\n",
        "horas_trab = int(input(\"Registre las horas trabajadas: \"))\n",
        "\n",
        "# Operaciones para calcular el sueldo\n",
        "sueldoMen = (valor_hora * horas_trab)\n",
        "\n",
        "# Impresión final del programa\n",
        "print(f\"El valor hora: {valor_hora} * {horas_trab} horas trabajadas da un sueldo de: {sueldoMen} \")"
      ],
      "metadata": {
        "colab": {
          "base_uri": "https://localhost:8080/"
        },
        "id": "23sHsy0Bvz_f",
        "outputId": "79c74eba-5d61-40ff-83d1-c607e77fbe19"
      },
      "execution_count": null,
      "outputs": [
        {
          "output_type": "stream",
          "name": "stdout",
          "text": [
            "Registre el valor de la hora del operario: 5.6\n",
            "Registre las horas trabajadas: 170\n",
            "El valor hora: 5.6 * 170 horas trabajadas da un sueldo de: 951.9999999999999 \n"
          ]
        }
      ]
    },
    {
      "cell_type": "markdown",
      "source": [
        "EJERCICO 4\n",
        "Realizar la carga de dos nombres de personas distintos. Mostrar por pantalla luego ordenados en forma alfabética."
      ],
      "metadata": {
        "id": "dGJUOZFSwi6y"
      }
    },
    {
      "cell_type": "code",
      "source": [
        "# Entrada de datos\n",
        "print('Ingresa dos nombres diferentes')\n",
        "nombre1 = input('Introduce un primer nombre: ')\n",
        "nombre2 = input('Introduce un segundo nombre: ')\n",
        "nombre3 = input('Introduce un tercer nombre: ')\n",
        "nombre4 = input('Introduce un cuarto nombre: ')\n",
        "nombre5 = input('Introduce un quinto nombre: ')\n",
        "nombre6 = input('Introduce un sexto nombre: ')\n",
        "\n",
        "# Orden alfabético impresión final del programa\n",
        "nombres = [nombre1, nombre2, nombre3, nombre4,nombre5,nombre6]\n",
        "nombres_lista = sorted(nombres)\n",
        "nombres_lista2 = sorted(nombres, reverse = True)\n",
        "\n",
        "print('Orden Ascendente:')\n",
        "for nombre in nombres_lista:\n",
        "  print(nombre)\n",
        "print('*******************')\n",
        "print('Orden Descendente:')\n",
        "for nombre in nombres_lista2:\n",
        "  print(nombre)"
      ],
      "metadata": {
        "id": "wo0DFwyhwnFY",
        "colab": {
          "base_uri": "https://localhost:8080/"
        },
        "outputId": "03406a29-25e8-43d3-e59b-099c6bb7b378"
      },
      "execution_count": null,
      "outputs": [
        {
          "output_type": "stream",
          "name": "stdout",
          "text": [
            "Ingresa dos nombres diferentes\n",
            "Introduce un primer nombre: RODOLFO\n",
            "Introduce un segundo nombre: MATEO\n",
            "Introduce un tercer nombre: DARVIN\n",
            "Introduce un cuarto nombre: CRISTIAN\n",
            "Introduce un quinto nombre: CLAUDIA\n",
            "Introduce un sexto nombre: LISETH\n",
            "Orden Ascendente:\n",
            "CLAUDIA\n",
            "CRISTIAN\n",
            "DARVIN\n",
            "LISETH\n",
            "MATEO\n",
            "RODOLFO\n",
            "*******************\n",
            "Orden Descendente:\n",
            "RODOLFO\n",
            "MATEO\n",
            "LISETH\n",
            "DARVIN\n",
            "CRISTIAN\n",
            "CLAUDIA\n"
          ]
        }
      ]
    },
    {
      "cell_type": "markdown",
      "source": [
        "EJERCICIO 5 Realizar la carga por teclado del nombre, edad y altura de dos personas. Mostrar por pantalla el nombre de la persona con mayor altura."
      ],
      "metadata": {
        "id": "i6zkoMSFiTxr"
      }
    },
    {
      "cell_type": "code",
      "source": [
        "# Entrada de datos\n",
        "print('Introduce el nombre, edad y altura de dos personas')\n",
        "nombre1 = input('Ingrese el nombre: ')\n",
        "edad1 = int(input('Ingrese la edad: '))\n",
        "altura1 = float(input('Ingrese la altura: '))\n",
        "\n",
        "print('Introduce los datos de la segunda persona')\n",
        "nombre2 = input('Ingrese el nombre: ')\n",
        "edad2 = int(input('Ingrese la edad: '))\n",
        "altura2 = float(input('Ingrese la altura: '))\n",
        "\n",
        "# Operación e impresión final\n",
        "if altura1 > altura2:\n",
        "  print(nombre1)\n",
        "else:\n",
        "  print(nombre2)"
      ],
      "metadata": {
        "colab": {
          "base_uri": "https://localhost:8080/"
        },
        "id": "nvgN9izoitHq",
        "outputId": "7c44ccb5-d9ea-4b1a-be53-1de5025301b2"
      },
      "execution_count": null,
      "outputs": [
        {
          "output_type": "stream",
          "name": "stdout",
          "text": [
            "Introduce el nombre, edad y altura de dos personas\n",
            "Ingrese el nombre: mateo\n",
            "Ingrese la edad: 18\n",
            "Ingrese la altura: 1.70\n",
            "Introduce los datos de la segunda persona\n",
            "Ingrese el nombre: cristian\n",
            "Ingrese la edad: 21\n",
            "Ingrese la altura: 1.60\n",
            "mateo\n"
          ]
        }
      ]
    },
    {
      "cell_type": "markdown",
      "source": [
        "EJERCICIO 6 Realizar la carga de dos nombres por teclado. Mostrar cual de los dos es mayor alfabeticamente o si son iguales."
      ],
      "metadata": {
        "id": "jJF0pL6oko7L"
      }
    },
    {
      "cell_type": "code",
      "source": [
        "# Entrada de datos\n",
        "nombre1 = input('Introduce un primer nombre: ')\n",
        "nombre2 = input('Introduce un segundo nombre: ')\n",
        "tamano1 = len(nombre1)\n",
        "tamano2 = len(nombre2)\n",
        "\n",
        "# Operaciones e impresión final\n",
        "if tamano1 == tamano2:\n",
        "  print('Son iguales alfabeticamente')\n",
        "else:\n",
        "  if tamano1 > tamano2:\n",
        "    print(f'{nombre1} es mayor alfabeticamente')\n",
        "  else:\n",
        "    print(f'{nombre2} es mayor alfabeticamente')\n"
      ],
      "metadata": {
        "colab": {
          "base_uri": "https://localhost:8080/"
        },
        "id": "cDi0LYt2k8Si",
        "outputId": "0001475a-a380-4df9-b298-23730c8099fa"
      },
      "execution_count": null,
      "outputs": [
        {
          "output_type": "stream",
          "name": "stdout",
          "text": [
            "Introduce un primer nombre: cristian\n",
            "Introduce un segundo nombre: rodolfo\n",
            "cristian es mayor alfabeticamente\n"
          ]
        }
      ]
    },
    {
      "cell_type": "code",
      "source": [
        "# Cliclo FOR\n",
        "# Entrada de datos\n",
        "entr_nom =['david','william','mariana','angela']\n",
        "\n",
        "# Operaciones\n",
        "nom_list = entr_nom\n",
        "print('Imprimir los nombres ingresados')\n",
        "for nombre in nom_list:\n",
        "  print('Desordenados: ',nombre)\n",
        "\n",
        "entr_nom.sort()\n",
        "\n",
        "# Salida de datos\n",
        "print('****************************')\n",
        "print('Imprimir los nombres ordenados Descendentes: ')\n",
        "for nombre2 in entr_nom:\n",
        "  print('Ordenados: ',nombre2)\n",
        "\n",
        "entr_nom.sort(reverse = True)\n",
        "\n",
        "print('****************************')\n",
        "print('Imprimir los nombres ordenados Ascendentes: ')\n",
        "for nombre2 in entr_nom:\n",
        "  print('Ordenados: ',nombre2)"
      ],
      "metadata": {
        "colab": {
          "base_uri": "https://localhost:8080/"
        },
        "id": "SYuSpa4rEVkn",
        "outputId": "ee220077-73b9-42f0-b1a7-df084cb9d36e"
      },
      "execution_count": null,
      "outputs": [
        {
          "output_type": "stream",
          "name": "stdout",
          "text": [
            "Imprimir los nombres ingresados\n",
            "Desordenados:  david\n",
            "Desordenados:  william\n",
            "Desordenados:  mariana\n",
            "Desordenados:  angela\n",
            "****************************\n",
            "Imprimir los nombres ordenados Descendentes: \n",
            "Ordenados:  angela\n",
            "Ordenados:  david\n",
            "Ordenados:  mariana\n",
            "Ordenados:  william\n",
            "****************************\n",
            "Imprimir los nombres ordenados Ascendentes: \n",
            "Ordenados:  william\n",
            "Ordenados:  mariana\n",
            "Ordenados:  david\n",
            "Ordenados:  angela\n"
          ]
        }
      ]
    },
    {
      "cell_type": "code",
      "source": [
        "\"\"\"Escribí un programa que solicite al usuario dos números y los almacene en dos variables. \n",
        "En otra variable, almacená el resultado de la suma de esos dos números y luego mostrá ese resultado en pantalla.\n",
        "A continuación, el programa debe solicitar al usuario que ingrese un tercer número, el cual se debe almacenar en \n",
        "una nueva variable. Por último, mostrá en pantalla el resultado de la multiplicación de este nuevo número por el \n",
        "resultado de la suma anterior.\"\"\"\n",
        "\n",
        "num1 = float(input('introduce un numero: '))\n",
        "num2 = float(input('introduce un segundo numero: '))\n",
        "\n",
        "suma = num1 + num2\n",
        "\n",
        "print(f'El resultado de la suma es: {suma}')\n",
        "\n",
        "num3 = float(input('introduce un tercer numero: '))\n",
        "\n",
        "producto = suma * num3\n",
        "\n",
        "print(f'El resultado de la suma por {num3} es: {producto}')"
      ],
      "metadata": {
        "id": "6ECoKx8WFqKu",
        "colab": {
          "base_uri": "https://localhost:8080/"
        },
        "outputId": "5164f763-e6a4-4cf9-b0de-680d2aed7f99"
      },
      "execution_count": null,
      "outputs": [
        {
          "output_type": "stream",
          "name": "stdout",
          "text": [
            "introduce un numero: 2\n",
            "introduce un segundo numero: 5\n",
            "El resultado de la suma es: 7.0\n",
            "introduce un tercer numero: 3\n",
            "El resultado de la suma por 3.0 es: 21.0\n"
          ]
        }
      ]
    },
    {
      "cell_type": "code",
      "source": [
        ""
      ],
      "metadata": {
        "id": "88f0bOs0dIfd"
      },
      "execution_count": null,
      "outputs": []
    }
  ]
}